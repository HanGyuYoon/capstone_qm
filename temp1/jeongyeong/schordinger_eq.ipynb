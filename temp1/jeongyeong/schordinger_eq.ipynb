{
 "cells": [
  {
   "cell_type": "raw",
   "metadata": {},
   "source": [
    "## to solve schrodinger's equation in 1d\n",
    "# [-h_bar^2/(2m) * d^2/dx^2 +V(x)](psi) = E*psi(x) -> Hamiltonian operator(wave function) = Energy * wave function"
   ]
  },
  {
   "cell_type": "code",
   "execution_count": 1,
   "metadata": {},
   "outputs": [
    {
     "name": "stderr",
     "output_type": "stream",
     "text": [
      "C:\\Users\\JeongYeong\\Anaconda3\\lib\\site-packages\\h5py\\__init__.py:36: FutureWarning: Conversion of the second argument of issubdtype from `float` to `np.floating` is deprecated. In future, it will be treated as `np.float64 == np.dtype(float).type`.\n",
      "  from ._conv import register_converters as _register_converters\n"
     ]
    },
    {
     "name": "stdout",
     "output_type": "stream",
     "text": [
      "tensorflow version = 1.9.0\n",
      "Ready...\n"
     ]
    }
   ],
   "source": [
    "import tensorflow as tf\n",
    "import numpy as np\n",
    "import matplotlib.pyplot as plt\n",
    "from tqdm import tqdm_notebook\n",
    "print('tensorflow version = %s'%(tf.__version__))\n",
    "print('Ready...')"
   ]
  },
  {
   "cell_type": "markdown",
   "metadata": {},
   "source": [
    "# infinite wall problem"
   ]
  },
  {
   "cell_type": "code",
   "execution_count": 2,
   "metadata": {},
   "outputs": [],
   "source": [
    "# define potential function, inf == 1000.0\n",
    "# axis x = [0, 1]\n",
    "bins = 20; dx = 1 / (bins - 1);\n",
    "inf = 1000\n",
    "\n",
    "pot = np.zeros(bins)\n",
    "pot[0] = inf; pot[-1] = inf\n",
    "pot = tf.constant(pot, shape=pot.shape, dtype=tf.float32, name='infinite_potential_wall')"
   ]
  },
  {
   "cell_type": "code",
   "execution_count": 3,
   "metadata": {},
   "outputs": [],
   "source": [
    "# placeholder for training\n",
    "train = tf.placeholder(tf.float32, [1, bins], name='training_psi')"
   ]
  },
  {
   "cell_type": "code",
   "execution_count": 4,
   "metadata": {},
   "outputs": [],
   "source": [
    "# define weight and bias\n",
    "weight1 = tf.Variable(tf.random_normal([bins, bins]), name='weight1')\n",
    "bias1 = tf.Variable(tf.random_normal([1, bins]), name='bias1')"
   ]
  },
  {
   "cell_type": "code",
   "execution_count": null,
   "metadata": {},
   "outputs": [],
   "source": [
    "t"
   ]
  },
  {
   "cell_type": "raw",
   "metadata": {},
   "source": [
    "# define model and cost function -> Energy\n",
    "psi = tf.add(tf.matmul(train, weight1), bias1)\n",
    "# psi = tf.nn.softsign(psi)\n",
    "# prob = tf.reduce_sum(tf.square(psi) * dx, name='all_prob')\n",
    "# psi = tf.divide(psi, tf.sqrt(prob), name='psi') i think it isn't integrate, just a summation\n",
    "\n",
    "# [-h_bar^2/(2m) * d^2/dx^2 +V(x)](psi) = E*psi(x)\n",
    "# d^f/dx^2 = (2f(x) - f(x+h) - f(x-h)) / h^2\n",
    "# h_bar = 6.63 * 10^(-34)\n",
    "h_bar = 6.63 * 10**(-34)\n",
    "m = 9.11 * 10**(-31)\n",
    "#C = -h_bar**2 / (2 * m)\n",
    "C = 1\n",
    "\n",
    "def hamiltonian(psi, pot, C, dx):\n",
    "    psi1 = tf.concat([tf.slice(psi, [0,1], [1, bins-1]), [[0.]]], 1)\n",
    "    psi2 = tf.concat([[[0.]], tf.slice(psi, [0,0], [1, bins-1])], 1)\n",
    "    dy2 = tf.subtract(2 * psi, tf.add(psi1, psi2)) / dx**2\n",
    "    return tf.add(C * dy2, tf.multiply(pot, psi), name='hamiltonian')\n",
    "\n",
    "H = hamiltonian(psi, pot, C, dx)\n",
    "energy = tf.reduce_mean(tf.divide(H, psi, name='E'))\n",
    "var = tf.reduce_sum(tf.square(tf.subtract(H, tf.multiply(energy, psi)))) / bins\n",
    "cost = energy # + 10 * var #+ psi[0]**2 + psi[-1]**2 + # energy, end point(implicit b.c.), variance"
   ]
  },
  {
   "cell_type": "raw",
   "metadata": {},
   "source": [
    "psi = tf.add(tf.matmul(train, weight1), bias1, name='psi')\n",
    "\n",
    "#h_bar = 6.63 * 10**(-34)\n",
    "#m = 9.11 * 10**(-31)\n",
    "#C = -h_bar**2 / (2*m)\n",
    "C = -1\n",
    "A = C / dx**2\n",
    "A = tf.constant(A, shape=[1, bins])\n",
    "\n",
    "def get_energy(psi, pot, A):\n",
    "    psi1 = tf.concat([tf.slice(psi, [0, 1], [1, bins-1]), [[0.]]], 1)\n",
    "    psi2 = tf.concat([[[0.]], tf.slice(psi, [0, 1], [1, bins-1])], 1)\n",
    "    # En = 2*A + Vn - A * (psi(n-1) + psi(n+1)) / psi(n)\n",
    "    psi3 = tf.multiply(A, tf.divide(tf.add(psi1, psi2), psi))\n",
    "    return tf.add(2 * A, tf.subtract(pot, psi3))\n",
    "\n",
    "\n",
    "energy = get_energy(psi, pot, A)\n",
    "cost = tf.reduce_mean(energy) + psi[0, 1]**2 + psi[0, -1]**2"
   ]
  },
  {
   "cell_type": "code",
   "execution_count": 15,
   "metadata": {},
   "outputs": [],
   "source": [
    "psi = tf.add(tf.matmul(train, weight1), bias1, name='psi')\n",
    "\n",
    "#h_bar = 6.63 * 10**(-34)\n",
    "#m = 9.11 * 10**(-31)\n",
    "#C = -h_bar**2 / (2*m)\n",
    "C = -1\n",
    "A = C / dx**2\n",
    "A = tf.constant(A, shape=[1, bins])\n",
    "\n",
    "def get_energy(psi, pot, A):\n",
    "    psi1 = tf.concat([tf.slice(psi, [0, 1], [1, bins-1]), [[0.]]], 1)\n",
    "    psi2 = tf.concat([[[0.]], tf.slice(psi, [0, 0], [1, bins-1])], 1)\n",
    "    # psi * En = - 2*A*psi + Vn*psi + A * (psi(n-1) + psi(n+1))\n",
    "    p1 = tf.multiply(2*A, psi)\n",
    "    p2 = tf.multiply(pot, psi)\n",
    "    p3 = tf.multiply(A, tf.add(psi1, psi2))\n",
    "    return tf.subtract(tf.add(p2, p3), p1)\n",
    "\n",
    "\n",
    "energy = get_energy(psi, pot, A)\n",
    "variance = tf.square(energy - psi) / bins\n",
    "\n",
    "cost = tf.reduce_mean(energy)\n"
   ]
  },
  {
   "cell_type": "code",
   "execution_count": null,
   "metadata": {},
   "outputs": [],
   "source": []
  },
  {
   "cell_type": "code",
   "execution_count": 20,
   "metadata": {},
   "outputs": [],
   "source": [
    "opt = tf.train.AdamOptimizer(learning_rate=0.0001).minimize(cost)"
   ]
  },
  {
   "cell_type": "code",
   "execution_count": 21,
   "metadata": {},
   "outputs": [],
   "source": [
    "#sum_energy = tf.summary.scalar('energy', energy)\n",
    "sum_variance = tf.summary.histogram('variance', variance)\n",
    "sum_energy = tf.summary.histogram('energy', energy)\n",
    "sum_cost = tf.summary.scalar('cost', cost)\n",
    "#sum_psi = tf.summary.scalar('prob', tf.reduce_sum(tf.square(psi)))\n",
    "sum_weight = tf.summary.histogram('weight', weight1)\n",
    "sum_bias = tf.summary.histogram('bias', bias1)"
   ]
  },
  {
   "cell_type": "code",
   "execution_count": 22,
   "metadata": {},
   "outputs": [
    {
     "data": {
      "application/vnd.jupyter.widget-view+json": {
       "model_id": "cd9aee976e6e4fe1ba285ee4e1add818",
       "version_major": 2,
       "version_minor": 0
      },
      "text/plain": [
       "HBox(children=(IntProgress(value=0, max=100000), HTML(value='')))"
      ]
     },
     "metadata": {},
     "output_type": "display_data"
    },
    {
     "name": "stdout",
     "output_type": "stream",
     "text": [
      "\n"
     ]
    }
   ],
   "source": [
    "directory = './schrodinger_eq_1d'\n",
    "with tf.Session() as sess:\n",
    "    writer = tf.summary.FileWriter(directory)\n",
    "    writer.add_graph(sess.graph)\n",
    "\n",
    "    merged = tf.summary.merge_all()\n",
    "    \n",
    "    sess.run(tf.global_variables_initializer())\n",
    "    \n",
    "    itr = 100000\n",
    "    \n",
    "    init = np.ones([1, bins], dtype=np.float32)\n",
    "    \n",
    "    for step in tqdm_notebook(range(itr)):\n",
    "        #randinput = np.random.uniform(-100, 100, size=[1, bins])\n",
    "        cost_val, summary, _ = sess.run([cost, merged, opt], feed_dict={train: init}) # randinput\n",
    "        \n",
    "        writer.add_summary(summary, global_step=step)\n",
    "        \n",
    "        #writer.add_summary(sum1, global_step=step)\n",
    "        #writer.add_summary(sum2, global_step=step)\n",
    "        #writer.add_summary(sum_weight, global_step=step)\n",
    "        #writer.add_summary(sum_bias, global_step=step)\n",
    "        \n",
    "    psi_val1 = sess.run(psi, feed_dict={train: init})\n",
    "    w_val1 = sess.run(weight1)\n",
    "    b_val1 = sess.run(bias1)\n",
    "    potential = sess.run(pot)"
   ]
  },
  {
   "cell_type": "code",
   "execution_count": 19,
   "metadata": {},
   "outputs": [
    {
     "data": {
      "image/png": "[encoded data removed]",
      "text/plain": [
       "<Figure size 432x288 with 1 Axes>"
      ]
     },
     "metadata": {},
     "output_type": "display_data"
    },
    {
     "data": {
      "image/png": "[encoded data removed]",
      "text/plain": [
       "<Figure size 432x288 with 1 Axes>"
      ]
     },
     "metadata": {},
     "output_type": "display_data"
    },
    {
     "data": {
      "image/png": "[encoded data removed]",
      "text/plain": [
       "<Figure size 432x288 with 1 Axes>"
      ]
     },
     "metadata": {},
     "output_type": "display_data"
    },
    {
     "data": {
      "image/png": "[encoded data removed]",
      "text/plain": [
       "<Figure size 432x288 with 1 Axes>"
      ]
     },
     "metadata": {},
     "output_type": "display_data"
    }
   ],
   "source": [
    "val_A = C / dx**2\n",
    "def calculate_H(psi, pot, A):\n",
    "    psi1 = np.concatenate([psi[0,1:], [0.]], 0)\n",
    "    psi2 = np.concatenate([[0.], psi[0,:-1]], 0)\n",
    "    psi3 = A * (psi1 + psi2) / psi\n",
    "    return 2*A + pot - psi3\n",
    "\n",
    "def plot_rel(psi, H):\n",
    "    plt.scatter(psi, H, marker='.', c='k')\n",
    "    plt.title('relativity: H - psi')\n",
    "    plt.xlabel('psi')\n",
    "    plt.ylabel('H')\n",
    "    plt.show()\n",
    "    \n",
    "H_val = calculate_H(psi_val1, potential, val_A)\n",
    "\n",
    "ee = H_val / psi_val1\n",
    "\n",
    "plot_rel(psi_val1[0], H_val[0])\n",
    "plt.plot(H_val[0]); plt.show()\n",
    "plt.plot(psi_val1[0]); plt.show()\n",
    "plt.plot(ee[0]); plt.show()"
   ]
  },
  {
   "cell_type": "code",
   "execution_count": 30,
   "metadata": {},
   "outputs": [
    {
     "name": "stdout",
     "output_type": "stream",
     "text": [
      "[[ 551.77992047  584.65608291  -16.84935831 -707.67269038 -700.13619635\n",
      "  -704.67299465 -716.77872297 -705.82061652 -791.86514295 -722.69152433\n",
      "  -743.06031828 -657.27988322  268.23752689  -58.05123564 -838.17710691\n",
      "  -727.06965011 -726.95650466 -726.62007599 8369.06985499   14.84967353]]\n"
     ]
    }
   ],
   "source": [
    "psi1 = np.concatenate([psi_val1[0,1:], [0.]], 0)\n",
    "psi2 = np.concatenate([[0.], psi_val1[0,:-1]], 0)\n",
    "psi3 = val_A * (psi1 + psi2) / psi_val1\n"
   ]
  },
  {
   "cell_type": "code",
   "execution_count": 19,
   "metadata": {},
   "outputs": [
    {
     "name": "stdout",
     "output_type": "stream",
     "text": [
      "Help on function scatter in module matplotlib.pyplot:\n",
      "\n",
      "scatter(x, y, s=None, c=None, marker=None, cmap=None, norm=None, vmin=None, vmax=None, alpha=None, linewidths=None, verts=None, edgecolors=None, hold=None, data=None, **kwargs)\n",
      "    A scatter plot of *y* vs *x* with varying marker size and/or color.\n",
      "    \n",
      "    Parameters\n",
      "    ----------\n",
      "    x, y : array_like, shape (n, )\n",
      "        The data positions.\n",
      "    \n",
      "    s : scalar or array_like, shape (n, ), optional\n",
      "        The marker size in points**2.\n",
      "        Default is ``rcParams['lines.markersize'] ** 2``.\n",
      "    \n",
      "    c : color, sequence, or sequence of color, optional, default: 'b'\n",
      "        The marker color. Possible values:\n",
      "    \n",
      "        - A single color format string.\n",
      "        - A sequence of color specifications of length n.\n",
      "        - A sequence of n numbers to be mapped to colors using *cmap* and\n",
      "          *norm*.\n",
      "        - A 2-D array in which the rows are RGB or RGBA.\n",
      "    \n",
      "        Note that *c* should not be a single numeric RGB or RGBA sequence\n",
      "        because that is indistinguishable from an array of values to be\n",
      "        colormapped. If you want to specify the same RGB or RGBA value for\n",
      "        all points, use a 2-D array with a single row.\n",
      "    \n",
      "    marker : `~matplotlib.markers.MarkerStyle`, optional, default: 'o'\n",
      "        The marker style. *marker* can be either an instance of the class\n",
      "        or the text shorthand for a particular marker.\n",
      "        See `~matplotlib.markers` for more information marker styles.\n",
      "    \n",
      "    cmap : `~matplotlib.colors.Colormap`, optional, default: None\n",
      "        A `.Colormap` instance or registered colormap name. *cmap* is only\n",
      "        used if *c* is an array of floats. If ``None``, defaults to rc\n",
      "        ``image.cmap``.\n",
      "    \n",
      "    norm : `~matplotlib.colors.Normalize`, optional, default: None\n",
      "        A `.Normalize` instance is used to scale luminance data to 0, 1.\n",
      "        *norm* is only used if *c* is an array of floats. If *None*, use\n",
      "        the default `.colors.Normalize`.\n",
      "    \n",
      "    vmin, vmax : scalar, optional, default: None\n",
      "        *vmin* and *vmax* are used in conjunction with *norm* to normalize\n",
      "        luminance data. If None, the respective min and max of the color\n",
      "        array is used. *vmin* and *vmax* are ignored if you pass a *norm*\n",
      "        instance.\n",
      "    \n",
      "    alpha : scalar, optional, default: None\n",
      "        The alpha blending value, between 0 (transparent) and 1 (opaque).\n",
      "    \n",
      "    linewidths : scalar or array_like, optional, default: None\n",
      "        The linewidth of the marker edges. Note: The default *edgecolors*\n",
      "        is 'face'. You may want to change this as well.\n",
      "        If *None*, defaults to rcParams ``lines.linewidth``.\n",
      "    \n",
      "    verts : sequence of (x, y), optional\n",
      "        If *marker* is *None*, these vertices will be used to construct\n",
      "        the marker.  The center of the marker is located at (0, 0) in\n",
      "        normalized units.  The overall marker is rescaled by *s*.\n",
      "    \n",
      "    edgecolors : color or sequence of color, optional, default: 'face'\n",
      "        The edge color of the marker. Possible values:\n",
      "    \n",
      "        - 'face': The edge color will always be the same as the face color.\n",
      "        - 'none': No patch boundary will be drawn.\n",
      "        - A matplotib color.\n",
      "    \n",
      "        For non-filled markers, the *edgecolors* kwarg is ignored and\n",
      "        forced to 'face' internally.\n",
      "    \n",
      "    Returns\n",
      "    -------\n",
      "    paths : `~matplotlib.collections.PathCollection`\n",
      "    \n",
      "    Other Parameters\n",
      "    ----------------\n",
      "    **kwargs : `~matplotlib.collections.Collection` properties\n",
      "    \n",
      "    See Also\n",
      "    --------\n",
      "    plot : To plot scatter plots when markers are identical in size and\n",
      "        color.\n",
      "    \n",
      "    Notes\n",
      "    -----\n",
      "    \n",
      "    * The `.plot` function will be faster for scatterplots where markers\n",
      "      don't vary in size or color.\n",
      "    \n",
      "    * Any or all of *x*, *y*, *s*, and *c* may be masked arrays, in which\n",
      "      case all masks will be combined and only unmasked points will be\n",
      "      plotted.\n",
      "    \n",
      "    * Fundamentally, scatter works with 1-D arrays; *x*, *y*, *s*, and *c*\n",
      "      may be input as 2-D arrays, but within scatter they will be\n",
      "      flattened. The exception is *c*, which will be flattened only if its\n",
      "      size matches the size of *x* and *y*.\n",
      "    \n",
      "    .. note::\n",
      "        In addition to the above described arguments, this function can take a\n",
      "        **data** keyword argument. If such a **data** argument is given, the\n",
      "        following arguments are replaced by **data[<arg>]**:\n",
      "    \n",
      "        * All arguments with the following names: 'c', 'color', 'edgecolors', 'facecolor', 'facecolors', 'linewidths', 's', 'x', 'y'.\n",
      "\n"
     ]
    }
   ],
   "source": [
    "help(plt.scatter)"
   ]
  },
  {
   "cell_type": "code",
   "execution_count": 110,
   "metadata": {},
   "outputs": [],
   "source": [
    "\n",
    "\n",
    "def hhh(w, b):\n",
    "    x = np.ones([1, bins])\n",
    "    psi = np.dot(x, w_val1) + b\n",
    "    psi = psi.reshape(bins)\n",
    "    pot = np.ones(bins)\n",
    "    pot[0] = inf; pot[-1] = inf\n",
    "    dy2dx2 = 2 * psi - (np.concatenate(([0.], psi[1:]), axis=0) + np.concatenate((psi[:-1], [0]), axis=0))\n",
    "    temp1 = np.multiply(1, dy2dx2 * dx**2) + np.multiply(pot, psi)\n",
    "    temp2 = np.sum(temp1 / psi)\n",
    "    return temp1, temp2 # H, E\n",
    "    \n"
   ]
  },
  {
   "cell_type": "code",
   "execution_count": 116,
   "metadata": {},
   "outputs": [
    {
     "name": "stdout",
     "output_type": "stream",
     "text": [
      "502434865.98696154\n"
     ]
    }
   ],
   "source": [
    "tp1, tp2 = hhh(w_val1, b_val1)\n",
    "#print(tp1)\n",
    "var1 = np.sum(np.square(tp1 - tp2 * psi))/bins\n",
    "print(var1)\n",
    "# need to see cost"
   ]
  },
  {
   "cell_type": "code",
   "execution_count": 30,
   "metadata": {},
   "outputs": [
    {
     "ename": "IndentationError",
     "evalue": "unexpected indent (<ipython-input-30-7fba913c85e3>, line 13)",
     "output_type": "error",
     "traceback": [
      "\u001b[1;36m  File \u001b[1;32m\"<ipython-input-30-7fba913c85e3>\"\u001b[1;36m, line \u001b[1;32m13\u001b[0m\n\u001b[1;33m    psi = np.dot(y, w_val1) + bplt.show()\u001b[0m\n\u001b[1;37m    ^\u001b[0m\n\u001b[1;31mIndentationError\u001b[0m\u001b[1;31m:\u001b[0m unexpected indent\n"
     ]
    }
   ],
   "source": [
    "plt.figure(figsize=(20, 10))\n",
    "\n",
    "x = np.arange(bins)\n",
    "plt.plot(x, potential)\n",
    "y = np.ones([1, bins])\n",
    "psi = np.dot(y, w_val1) + b_val1\n",
    "psi = psi.reshape(x.shape)\n",
    "psi = psi / np.sqrt(np.square(psi) * dx)\n",
    "\n",
    "plt.plot(x, psi)\n",
    "plt.ylim(-100, 100)\n",
    "x = np.ones([1, bins])\n",
    "    psi = np.dot(y, w_val1) + bplt.show()"
   ]
  },
  {
   "cell_type": "code",
   "execution_count": 74,
   "metadata": {},
   "outputs": [
    {
     "name": "stdout",
     "output_type": "stream",
     "text": [
      "(1, 100)\n"
     ]
    },
    {
     "ename": "ValueError",
     "evalue": "all the input arrays must have same number of dimensions",
     "output_type": "error",
     "traceback": [
      "\u001b[1;31m---------------------------------------------------------------------------\u001b[0m",
      "\u001b[1;31mValueError\u001b[0m                                Traceback (most recent call last)",
      "\u001b[1;32m<ipython-input-74-df3ef388574d>\u001b[0m in \u001b[0;36m<module>\u001b[1;34m()\u001b[0m\n\u001b[0;32m      3\u001b[0m \u001b[0mprint\u001b[0m\u001b[1;33m(\u001b[0m\u001b[0mpsi\u001b[0m\u001b[1;33m.\u001b[0m\u001b[0mshape\u001b[0m\u001b[1;33m)\u001b[0m\u001b[1;33m\u001b[0m\u001b[0m\n\u001b[0;32m      4\u001b[0m \u001b[1;33m\u001b[0m\u001b[0m\n\u001b[1;32m----> 5\u001b[1;33m \u001b[0mtemp\u001b[0m \u001b[1;33m=\u001b[0m \u001b[0mnp\u001b[0m\u001b[1;33m.\u001b[0m\u001b[0mconcatenate\u001b[0m\u001b[1;33m(\u001b[0m\u001b[1;33m(\u001b[0m\u001b[1;33m[\u001b[0m\u001b[1;36m0.\u001b[0m\u001b[1;33m]\u001b[0m\u001b[1;33m,\u001b[0m \u001b[0mpsi\u001b[0m\u001b[1;33m[\u001b[0m\u001b[1;36m1\u001b[0m\u001b[1;33m:\u001b[0m\u001b[1;33m]\u001b[0m\u001b[1;33m)\u001b[0m\u001b[1;33m,\u001b[0m \u001b[0maxis\u001b[0m\u001b[1;33m=\u001b[0m\u001b[1;36m0\u001b[0m\u001b[1;33m)\u001b[0m \u001b[1;33m+\u001b[0m \u001b[0mnp\u001b[0m\u001b[1;33m.\u001b[0m\u001b[0mconcatenate\u001b[0m\u001b[1;33m(\u001b[0m\u001b[1;33m(\u001b[0m\u001b[0mpsi\u001b[0m\u001b[1;33m[\u001b[0m\u001b[1;33m:\u001b[0m\u001b[1;33m-\u001b[0m\u001b[1;36m1\u001b[0m\u001b[1;33m]\u001b[0m\u001b[1;33m,\u001b[0m \u001b[1;33m[\u001b[0m\u001b[1;36m0\u001b[0m\u001b[1;33m]\u001b[0m\u001b[1;33m)\u001b[0m\u001b[1;33m,\u001b[0m \u001b[0maxis\u001b[0m\u001b[1;33m=\u001b[0m\u001b[1;36m0\u001b[0m\u001b[1;33m)\u001b[0m\u001b[1;33m\u001b[0m\u001b[0m\n\u001b[0m\u001b[0;32m      6\u001b[0m \u001b[0mprint\u001b[0m\u001b[1;33m(\u001b[0m\u001b[0mtemp\u001b[0m\u001b[1;33m.\u001b[0m\u001b[0mshape\u001b[0m\u001b[1;33m)\u001b[0m\u001b[1;33m\u001b[0m\u001b[0m\n\u001b[0;32m      7\u001b[0m \u001b[0mprint\u001b[0m\u001b[1;33m(\u001b[0m\u001b[0mpsi\u001b[0m\u001b[1;33m.\u001b[0m\u001b[0mshape\u001b[0m\u001b[1;33m)\u001b[0m\u001b[1;33m\u001b[0m\u001b[0m\n",
      "\u001b[1;31mValueError\u001b[0m: all the input arrays must have same number of dimensions"
     ]
    }
   ],
   "source": [
    "x = np.ones([1, bins])\n",
    "psi = np.dot(y, w_val1) + b_val1\n",
    "print(psi.shape)\n",
    "\n",
    "temp = np.concatenate(([0.], psi[1:]), axis=0) + np.concatenate((psi[:-1], [0]), axis=0)\n",
    "print(temp.shape)\n",
    "print(psi.shape)"
   ]
  },
  {
   "cell_type": "code",
   "execution_count": 51,
   "metadata": {},
   "outputs": [
    {
     "name": "stdout",
     "output_type": "stream",
     "text": [
      "Help on built-in function concatenate in module numpy.core.multiarray:\n",
      "\n",
      "concatenate(...)\n",
      "    concatenate((a1, a2, ...), axis=0, out=None)\n",
      "    \n",
      "    Join a sequence of arrays along an existing axis.\n",
      "    \n",
      "    Parameters\n",
      "    ----------\n",
      "    a1, a2, ... : sequence of array_like\n",
      "        The arrays must have the same shape, except in the dimension\n",
      "        corresponding to `axis` (the first, by default).\n",
      "    axis : int, optional\n",
      "        The axis along which the arrays will be joined.  Default is 0.\n",
      "    out : ndarray, optional\n",
      "        If provided, the destination to place the result. The shape must be\n",
      "        correct, matching that of what concatenate would have returned if no\n",
      "        out argument were specified.\n",
      "    \n",
      "    Returns\n",
      "    -------\n",
      "    res : ndarray\n",
      "        The concatenated array.\n",
      "    \n",
      "    See Also\n",
      "    --------\n",
      "    ma.concatenate : Concatenate function that preserves input masks.\n",
      "    array_split : Split an array into multiple sub-arrays of equal or\n",
      "                  near-equal size.\n",
      "    split : Split array into a list of multiple sub-arrays of equal size.\n",
      "    hsplit : Split array into multiple sub-arrays horizontally (column wise)\n",
      "    vsplit : Split array into multiple sub-arrays vertically (row wise)\n",
      "    dsplit : Split array into multiple sub-arrays along the 3rd axis (depth).\n",
      "    stack : Stack a sequence of arrays along a new axis.\n",
      "    hstack : Stack arrays in sequence horizontally (column wise)\n",
      "    vstack : Stack arrays in sequence vertically (row wise)\n",
      "    dstack : Stack arrays in sequence depth wise (along third dimension)\n",
      "    \n",
      "    Notes\n",
      "    -----\n",
      "    When one or more of the arrays to be concatenated is a MaskedArray,\n",
      "    this function will return a MaskedArray object instead of an ndarray,\n",
      "    but the input masks are *not* preserved. In cases where a MaskedArray\n",
      "    is expected as input, use the ma.concatenate function from the masked\n",
      "    array module instead.\n",
      "    \n",
      "    Examples\n",
      "    --------\n",
      "    >>> a = np.array([[1, 2], [3, 4]])\n",
      "    >>> b = np.array([[5, 6]])\n",
      "    >>> np.concatenate((a, b), axis=0)\n",
      "    array([[1, 2],\n",
      "           [3, 4],\n",
      "           [5, 6]])\n",
      "    >>> np.concatenate((a, b.T), axis=1)\n",
      "    array([[1, 2, 5],\n",
      "           [3, 4, 6]])\n",
      "    \n",
      "    This function will not preserve masking of MaskedArray inputs.\n",
      "    \n",
      "    >>> a = np.ma.arange(3)\n",
      "    >>> a[1] = np.ma.masked\n",
      "    >>> b = np.arange(2, 5)\n",
      "    >>> a\n",
      "    masked_array(data = [0 -- 2],\n",
      "                 mask = [False  True False],\n",
      "           fill_value = 999999)\n",
      "    >>> b\n",
      "    array([2, 3, 4])\n",
      "    >>> np.concatenate([a, b])\n",
      "    masked_array(data = [0 1 2 2 3 4],\n",
      "                 mask = False,\n",
      "           fill_value = 999999)\n",
      "    >>> np.ma.concatenate([a, b])\n",
      "    masked_array(data = [0 -- 2 2 3 4],\n",
      "                 mask = [False  True False False False False],\n",
      "           fill_value = 999999)\n",
      "\n"
     ]
    }
   ],
   "source": [
    "help(np.concatenate)"
   ]
  },
  {
   "cell_type": "code",
   "execution_count": null,
   "metadata": {},
   "outputs": [],
   "source": []
  }
 ],
 "metadata": {
  "kernelspec": {
   "display_name": "Python [default]",
   "language": "python",
   "name": "python3"
  },
  "language_info": {
   "codemirror_mode": {
    "name": "ipython",
    "version": 3
   },
   "file_extension": ".py",
   "mimetype": "text/x-python",
   "name": "python",
   "nbconvert_exporter": "python",
   "pygments_lexer": "ipython3",
   "version": "3.6.5"
  }
 },
 "nbformat": 4,
 "nbformat_minor": 2
}
