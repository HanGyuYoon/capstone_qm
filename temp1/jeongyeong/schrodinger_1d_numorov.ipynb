{
 "cells": [
  {
   "cell_type": "code",
   "execution_count": 3,
   "metadata": {},
   "outputs": [],
   "source": [
    "import numpy as np\n",
    "import matplotlib.pyplot as plt\n",
    "import scipy.integrate as integrate"
   ]
  },
  {
   "cell_type": "code",
   "execution_count": 4,
   "metadata": {},
   "outputs": [],
   "source": [
    "N = 1000\n",
    "psi = np.zeros(N)\n",
    "g2 = 200 # gamma squared\n",
    "v = (-1) * np.ones(N) # potential array\n",
    "ep = -0.9 # trial energy\n",
    "k2 = g2 * (ep - v) # k squared\n",
    "l2 = (1.0 / (N-1))**2 # l squared\n",
    "\n",
    "def wavefunction(ep, k2, N): # finds wave function\n",
    "    psi[0] = 0 # set initial value\n",
    "    psi[1] = 1e-4\n",
    "    \n",
    "    for i in range(2, N):\n",
    "        psi[i] = (2 * (1 - (5.0/12) * l2 * k2[i-1]) * psi[i-1]\n",
    "        -(1 + (1.0/12) * l2 * k2[i-2]) *psi[i-2])/(1 + (1.0/12) * l2 *k2[i])\n",
    "    return psi / np.sqrt(integrate.simps(psi**2, dx=1))\n",
    "\n",
    "psi = wavefunction(ep, k2, N)"
   ]
  },
  {
   "cell_type": "code",
   "execution_count": 5,
   "metadata": {},
   "outputs": [
    {
     "data": {
      "text/plain": [
       "[<matplotlib.lines.Line2D at 0x18c2fb6e5f8>]"
      ]
     },
     "execution_count": 5,
     "metadata": {},
     "output_type": "execute_result"
    },
    {
     "data": {
      "image/png": "[encoded data removed]",
      "text/plain": [
       "<Figure size 432x288 with 1 Axes>"
      ]
     },
     "metadata": {},
     "output_type": "display_data"
    }
   ],
   "source": [
    "plt.plot(psi)"
   ]
  },
  {
   "cell_type": "code",
   "execution_count": 6,
   "metadata": {},
   "outputs": [],
   "source": [
    "# function to find eigenstates\n",
    "def epsilon(eps, deps, N): # takes trial energy, change in energy, N\n",
    "    psi = np.zeros(N)\n",
    "    k2 = g2 * (eps - v) # update k each time\n",
    "    psi = wavefunction(psi, k2, N)\n",
    "    p1 = psi[N-1]\n",
    "    eps = eps + deps\n",
    "    \n",
    "    while abs(deps) > 1e-12: # sets the accuracy(end point ~= 0)\n",
    "        k2 = g2 * (eps - v)\n",
    "        psi = wavefunction(psi, k2, N)\n",
    "        p2 = psi[N-1]\n",
    "        \n",
    "        if p1 * p2 < 0: # if ther is a sign change\n",
    "            deps = -deps / 2.0\n",
    "            \n",
    "        eps = eps + deps\n",
    "        p1 = p2\n",
    "    return k2, eps"
   ]
  },
  {
   "cell_type": "code",
   "execution_count": 34,
   "metadata": {},
   "outputs": [],
   "source": [
    "N = 1000\n",
    "psi = np.zeros(N)\n",
    "g2 = 200 # gamma squared\n",
    "v = (-1) * np.ones(N) # potential array\n",
    "ep = -0.9 # trial energy\n",
    "k2 = g2 * (ep - v) # k squared\n",
    "l2 = (1.0 / (N-1))**2 # l squared\n",
    "\n",
    "psi = np.zeros(N)\n",
    "k2, eps = epsilon(ep, -0.1, N)\n",
    "psi = wavefunction(eps, k2, N)"
   ]
  },
  {
   "cell_type": "code",
   "execution_count": 35,
   "metadata": {},
   "outputs": [
    {
     "name": "stdout",
     "output_type": "stream",
     "text": [
      "-0.9506519779948576\n"
     ]
    }
   ],
   "source": [
    "psi = psi / np.sqrt(integrate.simps(psi**2, dx=1))\n",
    "print(eps)"
   ]
  },
  {
   "cell_type": "code",
   "execution_count": 36,
   "metadata": {},
   "outputs": [
    {
     "data": {
      "text/plain": [
       "0.9999999967002539"
      ]
     },
     "execution_count": 36,
     "metadata": {},
     "output_type": "execute_result"
    }
   ],
   "source": [
    "sum(psi**2)"
   ]
  },
  {
   "cell_type": "code",
   "execution_count": 37,
   "metadata": {},
   "outputs": [
    {
     "data": {
      "text/plain": [
       "[<matplotlib.lines.Line2D at 0x18c30047320>]"
      ]
     },
     "execution_count": 37,
     "metadata": {},
     "output_type": "execute_result"
    },
    {
     "data": {
      "image/png": "[encoded data removed]",
      "text/plain": [
       "<Figure size 432x288 with 1 Axes>"
      ]
     },
     "metadata": {},
     "output_type": "display_data"
    }
   ],
   "source": [
    "plt.plot(psi)"
   ]
  },
  {
   "cell_type": "code",
   "execution_count": null,
   "metadata": {},
   "outputs": [],
   "source": []
  }
 ],
 "metadata": {
  "kernelspec": {
   "display_name": "Python [conda env:Anaconda3]",
   "language": "python",
   "name": "conda-env-Anaconda3-py"
  },
  "language_info": {
   "codemirror_mode": {
    "name": "ipython",
    "version": 3
   },
   "file_extension": ".py",
   "mimetype": "text/x-python",
   "name": "python",
   "nbconvert_exporter": "python",
   "pygments_lexer": "ipython3",
   "version": "3.6.5"
  }
 },
 "nbformat": 4,
 "nbformat_minor": 2
}
