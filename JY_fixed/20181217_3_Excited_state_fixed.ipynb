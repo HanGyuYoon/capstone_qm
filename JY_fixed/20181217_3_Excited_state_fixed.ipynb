{
 "cells": [
  {
   "cell_type": "code",
   "execution_count": null,
   "metadata": {},
   "outputs": [],
   "source": [
    "# import os\n",
    "import tensorflow as tf\n",
    "import numpy as np\n",
    "import matplotlib.pyplot as plt\n",
    "import pandas as pd\n",
    "import time\n",
    "# os.environ[\"CUDA_VISIBLE_DEVICES\"] = \"0\""
   ]
  },
  {
   "cell_type": "code",
   "execution_count": null,
   "metadata": {},
   "outputs": [],
   "source": [
    "#초기에 넣어 줄 랜덤 넘버\n",
    "batch_size = 1000\n",
    "input_scale = 10\n",
    "bins = 201\n",
    "iteration = 100000\n",
    "cost_graph=[]\n",
    "iteration_graph=[]\n",
    "input = tf.random_normal([batch_size,input_scale])"
   ]
  },
  {
   "cell_type": "code",
   "execution_count": null,
   "metadata": {},
   "outputs": [],
   "source": [
    "#test용 input, potential\n",
    "potential = tf.constant(0.0, shape = [batch_size,bins])"
   ]
  },
  {
   "cell_type": "code",
   "execution_count": null,
   "metadata": {},
   "outputs": [],
   "source": [
    "#웨이트, 바이어스\n",
    "'''간단하게 기존의 프로그램과 차이점은 기존의 프로그램에 두번째 스테이트를 쌓는 다는 점이다.'''\n",
    "initializer = tf.contrib.layers.xavier_initializer()\n",
    "# weight = tf.zeros([2, input_scale, bins], dtype = tf.float32)\n",
    "# weight = tf.zeros([input_scale, bins], dtype = tf.float32)\n",
    "weight1 = tf.Variable(initializer([input_scale, bins]), dtype = tf.float32)\n",
    "bias1 = tf.Variable(initializer([bins]), dtype = tf.float32)\n",
    "weight2 = tf.Variable(initializer([input_scale, bins]), dtype = tf.float32)\n",
    "bias2 = tf.Variable(initializer([bins]), dtype = tf.float32)"
   ]
  },
  {
   "cell_type": "code",
   "execution_count": null,
   "metadata": {},
   "outputs": [],
   "source": [
    "w1_loss, b1_loss, w2_loss, b2_loss = tf.nn.l2_loss(weight1), tf.nn.l2_loss(bias1), tf.nn.l2_loss(weight2), tf.nn.l2_loss(bias2)"
   ]
  },
  {
   "cell_type": "code",
   "execution_count": null,
   "metadata": {},
   "outputs": [],
   "source": [
    "binsnorm = tf.sqrt(tf.cast(bins, tf.float32))\n",
    "#프사이 1\n",
    "psi_1 = tf.matmul(input, weight1) + bias1\n",
    "psi_1 = tf.divide(psi_1,tf.sqrt(tf.reduce_mean(tf.square(psi_1), axis = 1, keepdims = True)))/binsnorm\n",
    "\n",
    "## 에너지 1\n",
    "zeroten = tf.zeros([batch_size, 1], tf.float32)\n",
    "psil_1 = tf.concat([psi_1[:,1:],zeroten],1)\n",
    "psir_1 = tf.concat([zeroten,psi_1[:,:-1]],1)\n",
    "energy_1 = tf.reduce_mean(tf.subtract(tf.multiply(tf.square(psi_1*binsnorm),tf.add(potential,1.*bins*bins)),tf.multiply(tf.multiply(tf.add(psil_1*binsnorm,psir_1*binsnorm),psi_1*binsnorm),0.5*bins*bins)), axis=-1, keep_dims=True)\n",
    "\n",
    "## 그람슈미츠 직교화\n",
    "'''그람슈미츠 직교화를 통해 프사이1과 orthonormal한 프사이2를 만드는 과정이다.'''\n",
    "psi_2 = tf.matmul(input, weight2) + bias2\n",
    "dotprod_1_2 = tf.multiply(tf.reduce_sum(tf.multiply(psi_1, psi_2), axis = 1, keepdims = True), psi_1)\n",
    "psi_2 = psi_2-dotprod_1_2\n",
    "psi_2 = tf.divide(psi_2,tf.sqrt(tf.reduce_mean(tf.square(psi_2), axis = 1, keepdims = True)))/binsnorm\n",
    "\n",
    "\n",
    "psil_2 = tf.concat([psi_2[:,1:],zeroten],1)\n",
    "psir_2 = tf.concat([zeroten,psi_2[:,:-1]],1)\n",
    "energy_2 = tf.reduce_mean(tf.subtract(tf.multiply(tf.square(psi_2*binsnorm),tf.add(potential,1.*bins*bins)),tf.multiply(tf.multiply(tf.add(psil_2*binsnorm,psir_2*binsnorm),psi_2*binsnorm),0.5*bins*bins)), axis=-1, keep_dims=True)\n",
    "\n",
    "## Leanier combination\n",
    "'''사실 이 계수는 별로 중요하지 않다. 왜냐하면 두 파동함수가 직교하기 때문에\n",
    "첫번째 프사이가 그라운드 스테이트로 간 후,\n",
    "두번째 프사이가 그라운드 스테이트로 가기 위해서 무조건 첫번째 들뜬 상태로 간다'''\n",
    "C=1/tf.sqrt(2.)\n",
    "C_1 = C*tf.ones(shape=[batch_size, 1])\n",
    "C_2 = C*tf.ones(shape=[batch_size, 1])\n",
    "psi = tf.add(tf.multiply(C_1, psi_1), tf.multiply(C_2, psi_2))"
   ]
  },
  {
   "cell_type": "code",
   "execution_count": null,
   "metadata": {},
   "outputs": [],
   "source": [
    "total_energy = (C_1**2)*energy_1+(C_2**2)*energy_2\n",
    "# total_energy = energy_1\n",
    "# cost = tf.reduce_mean(total_energy)\n",
    "cost = tf.reduce_mean(total_energy)+0.02*(w1_loss+w2_loss)"
   ]
  },
  {
   "cell_type": "code",
   "execution_count": null,
   "metadata": {},
   "outputs": [],
   "source": [
    "'''여기선 varlist라는 개념을 사용했는데 이는 텐서플로가 변수로 인식하는 부분을 의미한다.\n",
    "첫번째 학습에서는 웨이트1과 바이어스1만이 텐서플로의 변수이고\n",
    "두번째 학습에서는 웨이트2와 바이어스2만이 변수로 작용한다.'''\n",
    "train = tf.train.AdamOptimizer(learning_rate=0.001).minimize(energy_1, var_list=[weight1, bias1])\n",
    "train2 = tf.train.AdamOptimizer(learning_rate=0.001).minimize(cost, var_list=[weight2, bias2])"
   ]
  },
  {
   "cell_type": "code",
   "execution_count": null,
   "metadata": {},
   "outputs": [],
   "source": [
    "'''생각보다 프로그램이 무거워져서 GPU를 사용해야 빠르게 돌아간다.'''\n",
    "# If you want to use CPU\n",
    "config = tf.ConfigProto(device_count = {'GPU': 0})\n",
    "\n",
    "sess = tf.Session(config=config)\n",
    "\n",
    "# If you want to use GPU\n",
    "# config = tf.ConfigProto()\n",
    "# config.gpu_options.allow_growth = True\n",
    "\n",
    "# sess = tf.Session(config=config)"
   ]
  },
  {
   "cell_type": "code",
   "execution_count": null,
   "metadata": {},
   "outputs": [],
   "source": [
    "init = tf.global_variables_initializer()\n",
    "sess.run(init)"
   ]
  },
  {
   "cell_type": "code",
   "execution_count": null,
   "metadata": {},
   "outputs": [],
   "source": [
    "'''기존으 프로그램을 통해 이터레이션이 약 20000정도 진행되면 충분히 그라운드 스테이트에 도달한다는 점을\n",
    "착안하여, 30000번 쯤을 기준으로 학습1에서 학습2로 넘어가게 설정했다.\n",
    "파란색은 그라운드, 초록색은 퍼스트, 빨간색은 이 둘의 합을 나타내는데\n",
    "퍼스트가 한쪽으로 치우친 두가지형태가 있기 때문에 둘의 합도 한쪽으로 치우치게 된다.\n",
    "그림에서 퍼스트가 대칭인 이유는 제곱이기 때문.'''\n",
    "\n",
    "k = 50\n",
    "\n",
    "list_psi = np.zeros([int(iteration/k)+1, bins, 3])\n",
    "list_energy = np.zeros([int(iteration/k)+1, 2])\n",
    "list_cost = np.zeros([int(iteration/k)+1, 1])\n",
    "n = 0\n",
    "tic = time.time()\n",
    "\n",
    "for i in range (iteration):  \n",
    "    if i < 50000:\n",
    "        sess.run(train)\n",
    "    else :\n",
    "        sess.run(train2)\n",
    "    # save data each 50 times\n",
    "    if (i > 0) & (i % k == 0):\n",
    "        psi0_now, psi1_now, psi2_now, cost_now, energy1_now, energy2_now = sess.run([\n",
    "            psi, psi_1, psi_2, cost, tf.reduce_mean(energy_1), tf.reduce_mean(energy_2)])\n",
    "        list_psi[n, :, 0] = psi0_now[0]\n",
    "        list_psi[n, :, 1] = psi1_now[0]\n",
    "        list_psi[n, :, 2] = psi2_now[0]\n",
    "        list_cost[n] = cost_now\n",
    "        list_energy[n, 0] = energy1_now\n",
    "        list_energy[n, 1] = energy2_now\n",
    "        n = n + 1\n",
    "        \n",
    "    if (i > 0) & (i % 2000 == 0):\n",
    "        print(\"iteration=%d, cost=%f, energy1=%f, energy2=%f\" % (i, cost_now, energy1_now, energy2_now))\n",
    "print('Works done, It take %.2f minutes'%((time.time() - tic)/60))\n",
    "energy1_now, energy2_now = sess.run([tf.reduce_mean(energy_1), tf.reduce_mean(energy_2)])"
   ]
  },
  {
   "cell_type": "code",
   "execution_count": null,
   "metadata": {},
   "outputs": [],
   "source": [
    "name = ['3_psi_total_exc.csv', '3_psi_1_exc.csv', '3_psi_2_exc.csv', '3_cost_exc.csv']\n",
    "\n",
    "psi_total = list_psi[:, :, 0]\n",
    "psi_1 = list_psi[:, :, 1]\n",
    "psi_2 = list_psi[:, :, 2]\n",
    "df = list()\n",
    "df.append(pd.DataFrame(psi_total))\n",
    "df.append(pd.DataFrame(psi_1))\n",
    "df.append(pd.DataFrame(psi_2))\n",
    "df.append(pd.DataFrame(list_cost))\n",
    "\n",
    "for i in range(len(df)):\n",
    "    df[i].to_csv(name[i])"
   ]
  },
  {
   "cell_type": "code",
   "execution_count": null,
   "metadata": {},
   "outputs": [],
   "source": [
    "# Use Numerov method to solve schrodinger's equation\n",
    "def numerov_schro(V, C=1, xr=[0, 1], n=4):\n",
    "    bins = len(V)\n",
    "    # C = h^2/(2m)\n",
    "    x = np.linspace(xr[0], xr[1], bins)\n",
    "    # dx = x[1] - x[0] -> (xr[1] - xr[0])/bins\n",
    "    N = (xr[1] - xr[0]) * bins\n",
    "    # make second derivative bins x bins matrix\n",
    "    # make potential matrix\n",
    "    pot = np.diag(V)\n",
    "    # second derivative\n",
    "    temp = np.ones([bins])\n",
    "    temp = np.diag(-2 * temp)\n",
    "    for i in range(bins-1):\n",
    "        temp[i, i+1] = 1\n",
    "        temp[i+1, i] = 1\n",
    "    # sdmat = -C/dx**2 * temp\n",
    "    sdmat = -1/2 * temp * N**2\n",
    "    A = sdmat + pot\n",
    "    # solve eigenvalue problem\n",
    "    [ee, ev] = np.linalg.eig(A)\n",
    "    [ee, ev] = arange_eig(ee, ev, n)\n",
    "    return ee, ev\n",
    "\n",
    "def arange_eig(ee, ev, n):\n",
    "    # returns k in small order\n",
    "    ee = list(ee); ev = list(ev.transpose())\n",
    "    value = list(); vector = list()\n",
    "    for sm in range(n):\n",
    "        emin = 10e8 \n",
    "        for i, val in enumerate(ee):\n",
    "            if (emin > val):\n",
    "                emin = val\n",
    "                index = i\n",
    "            elif val < 0:\n",
    "                continue\n",
    "        value.append(emin)\n",
    "        vector.append(ev[index])\n",
    "        ee.pop(index)\n",
    "        ev.pop(index)\n",
    "    return np.array(value), np.array(vector)\n",
    "\n",
    "def compare_psi(psi, pot, state=1):\n",
    "    # compare trained data with numerically calculated data\n",
    "    # psi: trained data\n",
    "    # pot: potential that you used to train data\n",
    "    # state: the number of excited state\n",
    "    [_, ee] = numerov_schro(pot)\n",
    "    psi_num = ee[state - 1]\n",
    "    # compare the data after taking the square\n",
    "    # use chi square test, H0: trained data == expected data\n",
    "    observed = psi**2/sum(psi**2); expected = psi_num**2/sum(psi_num**2)\n",
    "    # plt.plot(observed); plt.plot(expected); plt.show()\n",
    "    chival = np.sum((observed - expected)**2/expected)\n",
    "    # pvalue = 1 - stats.chi2.cdf(chival, len(psi)-1)\n",
    "    return chival"
   ]
  },
  {
   "cell_type": "code",
   "execution_count": null,
   "metadata": {},
   "outputs": [],
   "source": [
    "pot = np.zeros([bins])\n",
    "psi1 = psi1_now[0]\n",
    "psi2 = psi2_now[0]\n",
    "[ee, ev] = numerov_schro(pot)"
   ]
  },
  {
   "cell_type": "code",
   "execution_count": null,
   "metadata": {
    "scrolled": true
   },
   "outputs": [],
   "source": [
    "fig = plt.figure(figsize=(20, 30))\n",
    "\n",
    "n = np.linspace(0, iteration, len(list_cost))\n",
    "\n",
    "plt.subplot(3,1,1)\n",
    "plt.title('cost', fontsize=18)\n",
    "plt.plot(n[:-2], list_cost[:-2], 'k'); plt.grid(True)\n",
    "plt.xlabel('iteration', fontsize=12)\n",
    "plt.ylabel('cost', fontsize=12)\n",
    "#plt.ylim([20000, 0000])\n",
    "\n",
    "plt.subplot(3,1,2)\n",
    "plt.title('cost', fontsize=18)\n",
    "plt.plot(n[:-2], list_cost[:-2], 'k'); plt.grid(True)\n",
    "plt.xlabel('iteration', fontsize=12)\n",
    "plt.ylabel('cost', fontsize=12)\n",
    "plt.ylim([-10, 100])\n",
    "\n",
    "x = np.linspace(0, 1, bins)\n",
    "pot = np.zeros(len(x))\n",
    "\n",
    "plt.subplot(3,2,5)\n",
    "plt.title('ground state', fontsize=18)\n",
    "plt.plot(x, psi1**2, 'r', label='trained')\n",
    "plt.plot(x, ev[0]**2, 'b', label='numerical')\n",
    "plt.xlabel('x', fontsize=12)\n",
    "plt.ylabel('probability', fontsize=12)\n",
    "plt.legend(fontsize=12)\n",
    "plt.grid(True)\n",
    "\n",
    "[ee, ev] = numerov_schro(pot)\n",
    "plt.subplot(3,2,6)\n",
    "plt.title('1st excited state', fontsize=18)\n",
    "plt.plot(x, psi2**2, 'r', label='trained')\n",
    "plt.plot(x, ev[1]**2, 'b', label='numerical')\n",
    "plt.xlabel('x', fontsize=12)\n",
    "plt.ylabel('probability', fontsize=12)\n",
    "plt.legend(fontsize=12)\n",
    "plt.grid(True)"
   ]
  },
  {
   "cell_type": "code",
   "execution_count": null,
   "metadata": {},
   "outputs": [],
   "source": [
    "error1 = np.sum((psi1**2 - ev[0]**2)**2*100)\n",
    "error2 = np.sum((psi2**2 - ev[1]**2)**2*100)\n",
    "print('ground state error = %.2f, 1st excited state error = %.2f'%(error1, error2))\n",
    "print('ground state total energy = %.2f, 1st excited state total energy = %.2f'%(energy1_now, energy2_now))"
   ]
  },
  {
   "cell_type": "code",
   "execution_count": null,
   "metadata": {},
   "outputs": [],
   "source": []
  },
  {
   "cell_type": "code",
   "execution_count": null,
   "metadata": {},
   "outputs": [],
   "source": []
  }
 ],
 "metadata": {
  "kernelspec": {
   "display_name": "Python [default]",
   "language": "python",
   "name": "python3"
  },
  "language_info": {
   "codemirror_mode": {
    "name": "ipython",
    "version": 3
   },
   "file_extension": ".py",
   "mimetype": "text/x-python",
   "name": "python",
   "nbconvert_exporter": "python",
   "pygments_lexer": "ipython3",
   "version": "3.6.5"
  }
 },
 "nbformat": 4,
 "nbformat_minor": 2
}
